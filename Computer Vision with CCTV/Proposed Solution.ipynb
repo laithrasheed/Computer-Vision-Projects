{
 "cells": [
  {
   "cell_type": "markdown",
   "id": "ce43ec99",
   "metadata": {},
   "source": [
    "# Problem Statement\n",
    "\n",
    "We are a Surveillance and CCTV company. We have a standard CCTV system, and we want to upgrade it into smart CCTVs. We want a solution that enables our cameras to detect human patterns, count objects, provide analysis within a 24-hour cooldown, and correctly detect the proper alert action for the system.\n",
    "\n",
    "# Data Science Methodology\n",
    "\n",
    "Let's apply the Data Science Methodology. \n",
    "\n",
    "Important note: it is really hard to mimic real-case projects. Below points describe assumptions and differences between any personal project/research and real-case scenario project.\n",
    "\n",
    "- **Raw Data**: In my personal roject, I am going to collect video and image data from more than one resource. However, if I want to be more accurate, I cannot call it raw data. This is because most resources are providing data already labeled (annotated). **Annotation** consume heavy resources from the team. In addition to annotation, ETL process will be missing in my personal project where in real cases data are being stored in certain Data Base where collection requires queries (assuming that there is no platform specifically to the firm purposes). For example, I have worked in a company where the collection of data is through platform, where me as a data scientist did not need any ETL techniques, queries, or communicating with a Data Engineer to help in ETL process. Meaning that, the job of Data Engineering and ETL might be done one time, enabling anlysts and scientist to perform ETL process easily and lonely in the future. \n",
    "\n",
    "## Business Understanding - Problem Definition\n",
    "\n",
    "I can conclude that they have CCTVs that are designed for **standard monitoring activities**, where cameras are capturing normal videos. Meaning that video and image data that we should use to train the model contains standard CCTV captures, not advanced videos and images like thermal captures nor medical and microbial captures.\n",
    "\n",
    "However, it was mentioned in the problem statement that they don't need to detect anomalies only! Stakeholders want also to have smart cameras that provide analysis on daily basis like counting and identifying categories, meaning that we are looking to achieve the following goals:\n",
    "\n",
    "- To enable cameras accurately detect positive alarms and minimize false and missing alarms. I will discuss more about this point in the model evaluation stage.\n",
    "\n",
    "- To enable the model to integrate with the CCTV system by upgrading it to intelligent level. Below list shows new features to be added:\n",
    "    - Provide daily basis counting to objects. This requires to train the model with various categories, so it can correclty identify objects in real time. I will add *New* as feature so whenever a new class that the model does not know, the data scientist then label captures manually and train and new model based on that. This is an iterative process, and it is a part of optimizing the models almost in daily basis.\n",
    "    - We need to include in the daily analysis dashboards a section for counting patterns. i.e., in addition labeling anomalies, I will introduce normal patterns, for example but not limited to: paying in supermarket, walking, driving/parking, gender prediction, and many many ideas that could lead to inisghts. In real case, this should be discussed with stakeholders twice per week or minimum once. \n",
    "\n",
    "\n",
    "\n",
    "\n",
    "\n",
    "\n",
    "\n",
    "\n",
    "## Model Evaluation\n",
    "\n",
    "\n",
    "\n",
    "Confusion Matrix\n",
    "\n",
    "TP: الإيجابيات الصحيحة, عدد الحالات الإيجابية التي تم التنبؤ بها بشكل صحيح\n",
    "\n",
    "Correct Alarm \n",
    "\n",
    "TN: السلبيات الصحيحة, عدد الحالات السلبية التي تم التنبؤ بها بشكل صحيح\n",
    "\n",
    "Correct False Alarm\n",
    "\n",
    "FP: الإيجابيات الخاطئة, عدد الحالات السبية التي تم التنبؤ بها بشكل خاطئ على أنها إيجابية\n",
    "\n",
    "False Alarm\n",
    "\n",
    "FN : الإيجابيات المفقودة, عدد الحالات الإيجابية التي تم التنبؤ بها بشكل خاطئ على أنها سلبية\n",
    "\n",
    "Alarm cases that are not captured. i.e., missing alarms"
   ]
  },
  {
   "cell_type": "markdown",
   "id": "e1e1e634",
   "metadata": {},
   "source": []
  }
 ],
 "metadata": {
  "language_info": {
   "name": "python"
  }
 },
 "nbformat": 4,
 "nbformat_minor": 5
}
