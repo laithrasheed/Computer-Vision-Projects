{
 "cells": [
  {
   "cell_type": "markdown",
   "id": "ce43ec99",
   "metadata": {},
   "source": [
    "# Problem Statement\n",
    "\n",
    "We are a Surveillance and CCTV company. We have a standard CCTV system, and we want to upgrade it into smart CCTVs. We want a solution that enables our cameras to detect human patterns, count objects, provide analysis within a 24-hour cooldown, and correctly detect the proper alert action for the system.\n",
    "\n",
    "Let's apply the Data Science Methodology"
   ]
  },
  {
   "cell_type": "code",
   "execution_count": null,
   "id": "31725af5",
   "metadata": {
    "vscode": {
     "languageId": "plaintext"
    }
   },
   "outputs": [],
   "source": []
  }
 ],
 "metadata": {
  "language_info": {
   "name": "python"
  }
 },
 "nbformat": 4,
 "nbformat_minor": 5
}
